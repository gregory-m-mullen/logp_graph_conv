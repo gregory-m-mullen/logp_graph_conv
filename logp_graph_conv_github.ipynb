{
  "nbformat": 4,
  "nbformat_minor": 0,
  "metadata": {
    "colab": {
      "provenance": [],
      "gpuType": "T4",
      "authorship_tag": "ABX9TyMsqjyGUOc2+STIAl+vISs7",
      "include_colab_link": true
    },
    "kernelspec": {
      "display_name": "Python 3",
      "name": "python3"
    },
    "accelerator": "GPU"
  },
  "cells": [
    {
      "cell_type": "markdown",
      "metadata": {
        "id": "view-in-github",
        "colab_type": "text"
      },
      "source": [
        "<a href=\"https://colab.research.google.com/github/gregory-m-mullen/logp_graph_conv/blob/main/logp_graph_conv_github.ipynb\" target=\"_parent\"><img src=\"https://colab.research.google.com/assets/colab-badge.svg\" alt=\"Open In Colab\"/></a>"
      ]
    },
    {
      "cell_type": "markdown",
      "metadata": {
        "id": "ZwJDkRNDiWWL"
      },
      "source": [
        "# Graph Convolutional Neural Network for Predicting logP of Molecules"
      ]
    },
    {
      "cell_type": "markdown",
      "source": [
        "This notebook sets up a graph convolutional neural network and uses it to predict the solubility parameter (logP) of a molecule from it's molecular structure. It uses the RDKit (https://www.rdkit.org/docs/Overview.html#what-is-it) and DeepChem (https://deepchem.io/about) libraries to represent molecules as graphs and uses Keras to build and train the network for predicting logP given a molecule's structure."
      ],
      "metadata": {
        "id": "72pGud--NjL6"
      }
    },
    {
      "cell_type": "markdown",
      "metadata": {
        "id": "bNSydmCgik10"
      },
      "source": [
        "We are going to use DeepChem to develop and train the network. The module needs to be installed on the server we connect to."
      ]
    },
    {
      "cell_type": "code",
      "metadata": {
        "colab": {
          "base_uri": "https://localhost:8080/"
        },
        "id": "J5ogGVgtCqPW",
        "outputId": "ef4f01b6-081e-434e-9c30-dca6644ce465"
      },
      "source": [
        "!pip install --pre deepchem"
      ],
      "execution_count": 1,
      "outputs": [
        {
          "output_type": "stream",
          "name": "stdout",
          "text": [
            "Looking in indexes: https://pypi.org/simple, https://us-python.pkg.dev/colab-wheels/public/simple/\n",
            "Collecting deepchem\n",
            "  Downloading deepchem-2.7.2.dev20230619171202-py3-none-any.whl (812 kB)\n",
            "\u001b[2K     \u001b[90m━━━━━━━━━━━━━━━━━━━━━━━━━━━━━━━━━━━━━━\u001b[0m \u001b[32m812.1/812.1 kB\u001b[0m \u001b[31m19.6 MB/s\u001b[0m eta \u001b[36m0:00:00\u001b[0m\n",
            "\u001b[?25hRequirement already satisfied: joblib in /usr/local/lib/python3.10/dist-packages (from deepchem) (1.2.0)\n",
            "Requirement already satisfied: numpy>=1.21 in /usr/local/lib/python3.10/dist-packages (from deepchem) (1.22.4)\n",
            "Requirement already satisfied: pandas in /usr/local/lib/python3.10/dist-packages (from deepchem) (1.5.3)\n",
            "Requirement already satisfied: scikit-learn in /usr/local/lib/python3.10/dist-packages (from deepchem) (1.2.2)\n",
            "Requirement already satisfied: scipy>=1.10.1 in /usr/local/lib/python3.10/dist-packages (from deepchem) (1.10.1)\n",
            "Collecting rdkit (from deepchem)\n",
            "  Downloading rdkit-2023.3.1-cp310-cp310-manylinux_2_17_x86_64.manylinux2014_x86_64.whl (29.7 MB)\n",
            "\u001b[2K     \u001b[90m━━━━━━━━━━━━━━━━━━━━━━━━━━━━━━━━━━━━━━━━\u001b[0m \u001b[32m29.7/29.7 MB\u001b[0m \u001b[31m52.1 MB/s\u001b[0m eta \u001b[36m0:00:00\u001b[0m\n",
            "\u001b[?25hRequirement already satisfied: python-dateutil>=2.8.1 in /usr/local/lib/python3.10/dist-packages (from pandas->deepchem) (2.8.2)\n",
            "Requirement already satisfied: pytz>=2020.1 in /usr/local/lib/python3.10/dist-packages (from pandas->deepchem) (2022.7.1)\n",
            "Requirement already satisfied: Pillow in /usr/local/lib/python3.10/dist-packages (from rdkit->deepchem) (8.4.0)\n",
            "Requirement already satisfied: threadpoolctl>=2.0.0 in /usr/local/lib/python3.10/dist-packages (from scikit-learn->deepchem) (3.1.0)\n",
            "Requirement already satisfied: six>=1.5 in /usr/local/lib/python3.10/dist-packages (from python-dateutil>=2.8.1->pandas->deepchem) (1.16.0)\n",
            "Installing collected packages: rdkit, deepchem\n",
            "Successfully installed deepchem-2.7.2.dev20230619171202 rdkit-2023.3.1\n"
          ]
        }
      ]
    },
    {
      "cell_type": "markdown",
      "metadata": {
        "id": "bK8--lYTndLT"
      },
      "source": [
        "## Import/Preprocess Data"
      ]
    },
    {
      "cell_type": "markdown",
      "source": [
        "The data set we are going to use is a list of SMILES (https://en.wikipedia.org/wiki/Simplified_molecular-input_line-entry_system) strings of molecules along with their corresponding logP values. The data set is huge, so we split it into 100 dataframes that we use for training and testing the model in batches."
      ],
      "metadata": {
        "id": "gLwvu7wvW5SR"
      }
    },
    {
      "cell_type": "code",
      "metadata": {
        "id": "9ybFCKJl_JXD",
        "colab": {
          "base_uri": "https://localhost:8080/"
        },
        "outputId": "3db934cc-134c-4671-9cc9-7c88ad08d9fd"
      },
      "source": [
        "%matplotlib inline\n",
        "import pandas as pd\n",
        "import deepchem as dc\n",
        "import numpy as np\n",
        "from rdkit import Chem\n",
        "from rdkit.Chem import AllChem\n",
        "from rdkit.Chem import Draw\n",
        "from rdkit.Chem import PandasTools\n",
        "from rdkit.Chem.Draw import IPythonConsole\n",
        "import matplotlib.pyplot as plt\n",
        "import seaborn as sns\n",
        "from sklearn.model_selection import train_test_split\n",
        "from tensorflow import keras\n",
        "import requests"
      ],
      "execution_count": 2,
      "outputs": [
        {
          "output_type": "stream",
          "name": "stderr",
          "text": [
            "WARNING:deepchem.feat.molecule_featurizers.rdkit_descriptors:No normalization for AvgIpc. Feature removed!\n",
            "WARNING:deepchem.models.torch_models:Skipped loading modules with pytorch-geometric dependency, missing a dependency. No module named 'torch_geometric'\n",
            "WARNING:deepchem.models.torch_models:Skipped loading modules with transformers dependency. No module named 'transformers'\n",
            "WARNING:deepchem.models:cannot import name 'HuggingFaceModel' from 'deepchem.models.torch_models' (/usr/local/lib/python3.10/dist-packages/deepchem/models/torch_models/__init__.py)\n",
            "WARNING:deepchem.models:Skipped loading modules with pytorch-geometric dependency, missing a dependency. cannot import name 'DMPNN' from 'deepchem.models.torch_models' (/usr/local/lib/python3.10/dist-packages/deepchem/models/torch_models/__init__.py)\n",
            "WARNING:deepchem.models:Skipped loading modules with pytorch-lightning dependency, missing a dependency. No module named 'pytorch_lightning'\n",
            "WARNING:deepchem.models:Skipped loading some Jax models, missing a dependency. No module named 'haiku'\n"
          ]
        }
      ]
    },
    {
      "cell_type": "code",
      "source": [
        "def download_file_from_google_drive(id, destination):\n",
        "    URL = \"https://docs.google.com/uc?export=download\"\n",
        "\n",
        "    session = requests.Session()\n",
        "\n",
        "    response = session.get(URL, params = { 'id' : id }, stream = True)\n",
        "    token = get_confirm_token(response)\n",
        "\n",
        "    if token:\n",
        "        params = { 'id' : id, 'confirm' : token }\n",
        "        response = session.get(URL, params = params, stream = True)\n",
        "\n",
        "    save_response_content(response, destination)\n",
        "\n",
        "def get_confirm_token(response):\n",
        "    for key, value in response.cookies.items():\n",
        "        if key.startswith('download_warning'):\n",
        "            return value\n",
        "\n",
        "    return None\n",
        "\n",
        "def save_response_content(response, destination):\n",
        "    CHUNK_SIZE = 32768\n",
        "\n",
        "    with open(destination, \"wb\") as f:\n",
        "        for chunk in response.iter_content(CHUNK_SIZE):\n",
        "            if chunk: # filter out keep-alive new chunks\n",
        "                f.write(chunk)"
      ],
      "metadata": {
        "id": "ZL1E0msb055v"
      },
      "execution_count": 3,
      "outputs": []
    },
    {
      "cell_type": "code",
      "source": [
        "file_id = '1k1_o39n5UOAKr1ESQfAdo5hopAgyw33W'\n",
        "destination = 'smiles_mw_logp.csv'\n",
        "download_file_from_google_drive(file_id, destination)\n",
        "\n",
        "df_all = pd.read_csv(\n",
        "    'smiles_mw_logp.csv',\n",
        "    index_col='smiles'\n",
        "    ).sample(frac=1, random_state=2)"
      ],
      "metadata": {
        "id": "TH95w3z309E_"
      },
      "execution_count": 4,
      "outputs": []
    },
    {
      "cell_type": "markdown",
      "metadata": {
        "id": "eqA8jWx9oRZu"
      },
      "source": [
        "## Define Model"
      ]
    },
    {
      "cell_type": "markdown",
      "source": [
        "This function converts each SMILES string in a database to a graph and sets up the data for processing through the network."
      ],
      "metadata": {
        "id": "RyxMLPs6SK4-"
      }
    },
    {
      "cell_type": "code",
      "metadata": {
        "id": "_59JspzWC_F5"
      },
      "source": [
        "def define_dataset(df, test_size):\n",
        "  df['mol_from_smiles'] = df.index.values\n",
        "  df['mol_from_smiles'] = df['mol_from_smiles'].apply(lambda x: Chem.MolFromSmiles(x))\n",
        "  df = df[~df['mol_from_smiles'].isnull()]\n",
        "\n",
        "  featurizer = dc.feat.graph_features.ConvMolFeaturizer()\n",
        "  features = [featurizer._featurize(x) for x in df.mol_from_smiles.values]\n",
        "\n",
        "  df = df.drop(['mol_from_smiles'], axis=1)\n",
        "\n",
        "  features_train, features_test, targets_train, targets_test = train_test_split(features, df, test_size=test_size, random_state=2)\n",
        "\n",
        "  return features_train, features_test, targets_train, targets_test"
      ],
      "execution_count": 5,
      "outputs": []
    },
    {
      "cell_type": "code",
      "source": [
        "features_train, features_test, targets_train, targets_test = define_dataset(df_all,test_size=0.1)"
      ],
      "metadata": {
        "id": "nR1F9hp6lQFg"
      },
      "execution_count": 6,
      "outputs": []
    },
    {
      "cell_type": "markdown",
      "metadata": {
        "id": "sTuK0zNroc56"
      },
      "source": [
        "I've played around with the architecture of the network to try to determine what is optimum. In general, modeling logP with a graph convolutional network appears to be quite easy and doesn't require deep learning. The results were very accurate even with a relatively small network. Here, I show results using a single graph convolution layer with 101 neurons and one dense layer with 100 neurons. Larger models might work better if trained for more epochs. Ultimately the accurracy needed would depend on the application. Since this is for demonstration only, I was satisfied with the accuracy I got using small networks."
      ]
    },
    {
      "cell_type": "code",
      "source": [
        "def build_model(n_tasks, n_conv=1, kernel_size=1001, dens_size=100):\n",
        "  model = dc.models.graph_models.GraphConvModel(\n",
        "      n_tasks,\n",
        "      mode='regression',\n",
        "      dropout=0.2,\n",
        "      graph_conv_layers = [kernel_size for x in range(n_conv)],\n",
        "      dense_layer_size = dens_size,\n",
        "      batch_size = 1000,\n",
        "      learning_rate = dc.models.optimizers.ExponentialDecay(3e-4, 0.9, 5000),\n",
        "  )\n",
        "  return model"
      ],
      "metadata": {
        "id": "cdOms0zcYLd9"
      },
      "execution_count": 7,
      "outputs": []
    },
    {
      "cell_type": "markdown",
      "metadata": {
        "id": "FfaQrHbtoynB"
      },
      "source": [
        "## Train Model"
      ]
    },
    {
      "cell_type": "markdown",
      "source": [],
      "metadata": {
        "id": "xtv1GQ3hv9s4"
      }
    },
    {
      "cell_type": "code",
      "metadata": {
        "id": "EBCfc68_DGQp",
        "colab": {
          "base_uri": "https://localhost:8080/"
        },
        "outputId": "1bb3c6fb-6bbb-4859-87c0-822c2091e04d"
      },
      "source": [
        "metrics = [\n",
        "           dc.metrics.Metric(dc.metrics.mean_squared_error),\n",
        "           dc.metrics.Metric(dc.metrics.pearson_r2_score)\n",
        "           ]\n",
        "\n",
        "kernel_sizes = [1001]\n",
        "n_convs = [1]\n",
        "dens_sizes = [100]\n",
        "EPOCHS = 200\n",
        "test_size = 0.1\n",
        "n_tasks = 1\n",
        "\n",
        "features_train, features_test, targets_train, targets_test = define_dataset(df_all, test_size)\n",
        "dataset_train = dc.data.NumpyDataset(X=features_train, y=targets_train)\n",
        "dataset_test = dc.data.NumpyDataset(X=features_test, y=targets_test)\n",
        "\n",
        "for kernel_size in kernel_sizes:\n",
        "  for n_conv in n_convs:\n",
        "    for dens_size in dens_sizes:\n",
        "      print(n_conv)\n",
        "      print(kernel_size)\n",
        "      print(dens_size)\n",
        "\n",
        "      validation = dc.models.ValidationCallback(\n",
        "          dataset_test,\n",
        "          100,\n",
        "          metrics,\n",
        "      )\n",
        "\n",
        "      model = build_model(n_tasks, n_conv=n_conv, kernel_size=kernel_size, dens_size=dens_size)\n",
        "\n",
        "      callbacks = [validation]\n",
        "\n",
        "      model.fit(dataset_train, nb_epoch=EPOCHS, callbacks=callbacks)"
      ],
      "execution_count": 8,
      "outputs": [
        {
          "output_type": "stream",
          "name": "stdout",
          "text": [
            "1\n",
            "1001\n",
            "100\n",
            "Step 100 validation: mean_squared_error=0.251989 pearson_r2_score=0.00215928\n",
            "Step 200 validation: mean_squared_error=0.336638 pearson_r2_score=0.00502443\n",
            "Step 300 validation: mean_squared_error=0.317357 pearson_r2_score=0.0274412\n",
            "Step 400 validation: mean_squared_error=0.252087 pearson_r2_score=0.122738\n",
            "Step 500 validation: mean_squared_error=0.118873 pearson_r2_score=0.387604\n",
            "Step 600 validation: mean_squared_error=0.0647508 pearson_r2_score=0.635152\n",
            "Step 700 validation: mean_squared_error=0.0578805 pearson_r2_score=0.676039\n",
            "Step 800 validation: mean_squared_error=0.0440264 pearson_r2_score=0.773362\n",
            "Step 900 validation: mean_squared_error=0.0396293 pearson_r2_score=0.778333\n",
            "Step 1000 validation: mean_squared_error=0.0383073 pearson_r2_score=0.793654\n",
            "Step 1100 validation: mean_squared_error=0.0365987 pearson_r2_score=0.802798\n",
            "Step 1200 validation: mean_squared_error=0.0392891 pearson_r2_score=0.808853\n",
            "Step 1300 validation: mean_squared_error=0.0303744 pearson_r2_score=0.830201\n",
            "Step 1400 validation: mean_squared_error=0.0329462 pearson_r2_score=0.825063\n",
            "Step 1500 validation: mean_squared_error=0.0321985 pearson_r2_score=0.832067\n",
            "Step 1600 validation: mean_squared_error=0.0288601 pearson_r2_score=0.842785\n",
            "Step 1700 validation: mean_squared_error=0.0295265 pearson_r2_score=0.843552\n",
            "Step 1800 validation: mean_squared_error=0.031539 pearson_r2_score=0.837854\n",
            "Step 1900 validation: mean_squared_error=0.0302554 pearson_r2_score=0.849969\n",
            "Step 2000 validation: mean_squared_error=0.037688 pearson_r2_score=0.831366\n",
            "Step 2100 validation: mean_squared_error=0.0302768 pearson_r2_score=0.858843\n",
            "Step 2200 validation: mean_squared_error=0.0280387 pearson_r2_score=0.849516\n",
            "Step 2300 validation: mean_squared_error=0.0361745 pearson_r2_score=0.848654\n",
            "Step 2400 validation: mean_squared_error=0.0283896 pearson_r2_score=0.845941\n",
            "Step 2500 validation: mean_squared_error=0.0257763 pearson_r2_score=0.864001\n",
            "Step 2600 validation: mean_squared_error=0.02687 pearson_r2_score=0.878882\n",
            "Step 2700 validation: mean_squared_error=0.0286402 pearson_r2_score=0.870825\n",
            "Step 2800 validation: mean_squared_error=0.0252142 pearson_r2_score=0.868844\n",
            "Step 2900 validation: mean_squared_error=0.0399739 pearson_r2_score=0.868433\n",
            "Step 3000 validation: mean_squared_error=0.0317889 pearson_r2_score=0.861212\n",
            "Step 3100 validation: mean_squared_error=0.0351995 pearson_r2_score=0.861271\n",
            "Step 3200 validation: mean_squared_error=0.0247305 pearson_r2_score=0.877237\n",
            "Step 3300 validation: mean_squared_error=0.0236476 pearson_r2_score=0.880165\n",
            "Step 3400 validation: mean_squared_error=0.0223121 pearson_r2_score=0.886312\n",
            "Step 3500 validation: mean_squared_error=0.0250621 pearson_r2_score=0.888636\n",
            "Step 3600 validation: mean_squared_error=0.0221661 pearson_r2_score=0.888991\n",
            "Step 3700 validation: mean_squared_error=0.025441 pearson_r2_score=0.885869\n",
            "Step 3800 validation: mean_squared_error=0.0259859 pearson_r2_score=0.891182\n",
            "Step 3900 validation: mean_squared_error=0.0355004 pearson_r2_score=0.893654\n",
            "Step 4000 validation: mean_squared_error=0.0377541 pearson_r2_score=0.895243\n",
            "Step 4100 validation: mean_squared_error=0.020309 pearson_r2_score=0.904363\n",
            "Step 4200 validation: mean_squared_error=0.0245557 pearson_r2_score=0.885898\n",
            "Step 4300 validation: mean_squared_error=0.025522 pearson_r2_score=0.889692\n",
            "Step 4400 validation: mean_squared_error=0.0205284 pearson_r2_score=0.894954\n",
            "Step 4500 validation: mean_squared_error=0.0270967 pearson_r2_score=0.900831\n",
            "Step 4600 validation: mean_squared_error=0.0242701 pearson_r2_score=0.898285\n",
            "Step 4700 validation: mean_squared_error=0.0297101 pearson_r2_score=0.892704\n",
            "Step 4800 validation: mean_squared_error=0.0250342 pearson_r2_score=0.902681\n",
            "Step 4900 validation: mean_squared_error=0.0297467 pearson_r2_score=0.906945\n",
            "Step 5000 validation: mean_squared_error=0.0181532 pearson_r2_score=0.898801\n",
            "Step 5100 validation: mean_squared_error=0.0204771 pearson_r2_score=0.89561\n",
            "Step 5200 validation: mean_squared_error=0.0287244 pearson_r2_score=0.899877\n",
            "Step 5300 validation: mean_squared_error=0.0199436 pearson_r2_score=0.898562\n",
            "Step 5400 validation: mean_squared_error=0.0212394 pearson_r2_score=0.904932\n",
            "Step 5500 validation: mean_squared_error=0.0271571 pearson_r2_score=0.897171\n",
            "Step 5600 validation: mean_squared_error=0.0233473 pearson_r2_score=0.907838\n",
            "Step 5700 validation: mean_squared_error=0.0256582 pearson_r2_score=0.904752\n",
            "Step 5800 validation: mean_squared_error=0.0296349 pearson_r2_score=0.897914\n",
            "Step 5900 validation: mean_squared_error=0.0205357 pearson_r2_score=0.899549\n",
            "Step 6000 validation: mean_squared_error=0.018983 pearson_r2_score=0.893327\n",
            "Step 6100 validation: mean_squared_error=0.0210749 pearson_r2_score=0.899757\n",
            "Step 6200 validation: mean_squared_error=0.0280108 pearson_r2_score=0.908254\n",
            "Step 6300 validation: mean_squared_error=0.0353386 pearson_r2_score=0.89759\n",
            "Step 6400 validation: mean_squared_error=0.0227192 pearson_r2_score=0.909206\n",
            "Step 6500 validation: mean_squared_error=0.0206403 pearson_r2_score=0.908248\n",
            "Step 6600 validation: mean_squared_error=0.0186207 pearson_r2_score=0.912442\n",
            "Step 6700 validation: mean_squared_error=0.0180237 pearson_r2_score=0.912558\n",
            "Step 6800 validation: mean_squared_error=0.0188501 pearson_r2_score=0.913279\n",
            "Step 6900 validation: mean_squared_error=0.0274588 pearson_r2_score=0.918031\n",
            "Step 7000 validation: mean_squared_error=0.0215161 pearson_r2_score=0.911766\n",
            "Step 7100 validation: mean_squared_error=0.0175688 pearson_r2_score=0.911945\n",
            "Step 7200 validation: mean_squared_error=0.0287642 pearson_r2_score=0.91109\n",
            "Step 7300 validation: mean_squared_error=0.0200943 pearson_r2_score=0.906865\n",
            "Step 7400 validation: mean_squared_error=0.0171884 pearson_r2_score=0.908393\n",
            "Step 7500 validation: mean_squared_error=0.01898 pearson_r2_score=0.907485\n",
            "Step 7600 validation: mean_squared_error=0.025963 pearson_r2_score=0.906252\n",
            "Step 7700 validation: mean_squared_error=0.0262174 pearson_r2_score=0.919442\n",
            "Step 7800 validation: mean_squared_error=0.0256315 pearson_r2_score=0.912286\n",
            "Step 7900 validation: mean_squared_error=0.0253816 pearson_r2_score=0.916353\n",
            "Step 8000 validation: mean_squared_error=0.0226968 pearson_r2_score=0.906532\n",
            "Step 8100 validation: mean_squared_error=0.0192764 pearson_r2_score=0.911138\n",
            "Step 8200 validation: mean_squared_error=0.0222024 pearson_r2_score=0.921676\n",
            "Step 8300 validation: mean_squared_error=0.023282 pearson_r2_score=0.923076\n",
            "Step 8400 validation: mean_squared_error=0.0316996 pearson_r2_score=0.924061\n",
            "Step 8500 validation: mean_squared_error=0.0239616 pearson_r2_score=0.923762\n",
            "Step 8600 validation: mean_squared_error=0.0341711 pearson_r2_score=0.909664\n",
            "Step 8700 validation: mean_squared_error=0.0373277 pearson_r2_score=0.911861\n",
            "Step 8800 validation: mean_squared_error=0.0194155 pearson_r2_score=0.913287\n",
            "Step 8900 validation: mean_squared_error=0.0322439 pearson_r2_score=0.908489\n",
            "Step 9000 validation: mean_squared_error=0.031907 pearson_r2_score=0.919032\n",
            "Step 9100 validation: mean_squared_error=0.0313467 pearson_r2_score=0.9172\n",
            "Step 9200 validation: mean_squared_error=0.0225038 pearson_r2_score=0.918275\n",
            "Step 9300 validation: mean_squared_error=0.0281779 pearson_r2_score=0.917354\n",
            "Step 9400 validation: mean_squared_error=0.0247291 pearson_r2_score=0.922083\n",
            "Step 9500 validation: mean_squared_error=0.0163248 pearson_r2_score=0.921958\n",
            "Step 9600 validation: mean_squared_error=0.034961 pearson_r2_score=0.915106\n",
            "Step 9700 validation: mean_squared_error=0.0212624 pearson_r2_score=0.928189\n",
            "Step 9800 validation: mean_squared_error=0.0161053 pearson_r2_score=0.92391\n",
            "Step 9900 validation: mean_squared_error=0.0234064 pearson_r2_score=0.915069\n",
            "Step 10000 validation: mean_squared_error=0.0187865 pearson_r2_score=0.92365\n",
            "Step 10100 validation: mean_squared_error=0.0288578 pearson_r2_score=0.922507\n",
            "Step 10200 validation: mean_squared_error=0.0198188 pearson_r2_score=0.928641\n",
            "Step 10300 validation: mean_squared_error=0.0225977 pearson_r2_score=0.925833\n",
            "Step 10400 validation: mean_squared_error=0.0215727 pearson_r2_score=0.92855\n"
          ]
        }
      ]
    },
    {
      "cell_type": "markdown",
      "metadata": {
        "id": "iUf-U-oao6Qb"
      },
      "source": [
        "## Analyze results"
      ]
    },
    {
      "cell_type": "markdown",
      "metadata": {
        "id": "oJvb34a8o-R6"
      },
      "source": [
        "We can check out the parity plots for any of the train or test samples. I usually like to look at a few to get a sense of how good/bad the model is doing for various samples."
      ]
    },
    {
      "cell_type": "code",
      "source": [
        "dataset_test = dc.data.NumpyDataset(X=features_test, y=targets_test)\n",
        "\n",
        "df_plot = pd.DataFrame(columns=['Predicted','Actual'])\n",
        "df_plot['Predicted'] = model.predict(dataset_test).flatten()\n",
        "df_plot['Actual'] = targets_test['logp'].values\n",
        "\n",
        "r2_test = str(df_plot.corr(numeric_only=True)['Actual']['Predicted'])\n",
        "\n",
        "print ('Test set accuracy: ' + str(r2_test))\n",
        "\n",
        "sns.set(context='paper', font_scale=2.0)\n",
        "sns.lmplot(data=df_plot, x='Predicted', y='Actual', height=6)\n",
        "plt.show()"
      ],
      "metadata": {
        "colab": {
          "base_uri": "https://localhost:8080/",
          "height": 596
        },
        "id": "tO_Qmp7i1mN8",
        "outputId": "0d983ce3-6a28-477a-9b39-c84fe45d4b5d"
      },
      "execution_count": 9,
      "outputs": [
        {
          "output_type": "stream",
          "name": "stdout",
          "text": [
            "Test set accuracy: 0.9636127372156001\n"
          ]
        },
        {
          "output_type": "display_data",
          "data": {
            "text/plain": [
              "<Figure size 600x600 with 1 Axes>"
            ],
            "image/png": "[encoded data removed]"
          },
          "metadata": {}
        }
      ]
    },
    {
      "cell_type": "markdown",
      "source": [
        "Link to other machine learning techniques for modeling logP."
      ],
      "metadata": {
        "id": "Wd-F3eYhZFcr"
      }
    },
    {
      "cell_type": "code",
      "source": [],
      "metadata": {
        "id": "S94Y-DwnZLDn"
      },
      "execution_count": null,
      "outputs": []
    }
  ]
}